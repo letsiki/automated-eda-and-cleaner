{
 "cells": [
  {
   "cell_type": "code",
   "execution_count": null,
   "id": "77dc6947",
   "metadata": {},
   "outputs": [],
   "source": [
    "import pandas as pd"
   ]
  },
  {
   "cell_type": "code",
   "execution_count": null,
   "id": "49b3645e",
   "metadata": {},
   "outputs": [],
   "source": [
    "df = pd.DataFrame({'a': (1,2,3), 'b':(4.6, 2.5,4.1)})"
   ]
  },
  {
   "cell_type": "code",
   "execution_count": null,
   "id": "800172ef",
   "metadata": {},
   "outputs": [],
   "source": [
    "df.columns"
   ]
  },
  {
   "cell_type": "code",
   "execution_count": null,
   "id": "5b0c51e9",
   "metadata": {},
   "outputs": [],
   "source": [
    "df.rows"
   ]
  },
  {
   "cell_type": "code",
   "execution_count": null,
   "id": "19189316",
   "metadata": {},
   "outputs": [],
   "source": [
    "df.index"
   ]
  },
  {
   "cell_type": "code",
   "execution_count": null,
   "id": "5c63744d",
   "metadata": {},
   "outputs": [],
   "source": [
    "pd.read_csv('float.csv')['num'].astype('boolean')"
   ]
  },
  {
   "cell_type": "code",
   "execution_count": null,
   "id": "1d4fff0a",
   "metadata": {},
   "outputs": [],
   "source": [
    "def dic_frame(dic: dict):\n",
    "    df = pd.DataFrame(dic)\n",
    "    for _, col_series in df.items():\n",
    "        col_series = col_series.astype(col_series.dropna().dtype.name)\n",
    "    return df\n",
    "\n",
    "def csv_frame(dic: dict):\n",
    "    df = pd.read_csv(dic)\n",
    "    for _, col_series in df.items():\n",
    "        col_series = col_series.astype(col_series.dropna().dtype.name)\n",
    "    return df"
   ]
  },
  {
   "cell_type": "code",
   "execution_count": null,
   "id": "30cafaa6",
   "metadata": {},
   "outputs": [],
   "source": [
    "csv_frame('float.csv')['num']"
   ]
  },
  {
   "cell_type": "code",
   "execution_count": null,
   "id": "06eb0263",
   "metadata": {},
   "outputs": [],
   "source": [
    "pd.read_csv('float.csv')"
   ]
  },
  {
   "cell_type": "code",
   "execution_count": 14,
   "id": "0ac6290d",
   "metadata": {},
   "outputs": [],
   "source": [
    "import pandas as pd\n",
    "import numpy as np\n",
    "\n",
    "def load_csv_with_nullable_types(filepath, **kwargs):\n",
    "    df = pd.read_csv(filepath, **kwargs)\n",
    "    nullable_df = pd.DataFrame()\n",
    "\n",
    "    for col in df.columns:\n",
    "        series = df[col]\n",
    "        non_null_series = series.dropna()\n",
    "\n",
    "        if non_null_series.empty:\n",
    "            # default to object if there's nothing to infer\n",
    "            nullable_df[col] = series.astype(\"object\")\n",
    "            continue\n",
    "\n",
    "        inferred_dtype = pd.api.types.infer_dtype(non_null_series, skipna=True)\n",
    "\n",
    "        # Map inferred dtype to a pandas nullable type\n",
    "        if inferred_dtype in {\"integer\"}:\n",
    "            nullable_df[col] = series.astype(\"Int64\")\n",
    "        elif inferred_dtype in {\"floating\"}:\n",
    "            try:\n",
    "                nullable_df[col] = series.astype(\"Int64\")\n",
    "            except:\n",
    "                nullable_df[col] = series.astype(\"Float64\")\n",
    "        elif inferred_dtype in {\"boolean\"}:\n",
    "            nullable_df[col] = series.astype(\"boolean\")\n",
    "        elif inferred_dtype in {\"string\", \"unicode\", \"datetime\"}:\n",
    "            try:\n",
    "                nullable_df[col] = pd.to_datetime(nullable_df)\n",
    "            except:    \n",
    "                nullable_df[col] = series.astype(\"string\")\n",
    "        else:\n",
    "            nullable_df[col] = series.astype(\"object\")\n",
    "\n",
    "    return nullable_df\n",
    "\n",
    "\n",
    "def load_dict_with_nullable_types(dic, **kwargs):\n",
    "    df = pd.DataFrame(dict)\n",
    "    nullable_df = pd.DataFrame()\n",
    "\n",
    "    for col in df.columns:\n",
    "        series = df[col]\n",
    "        non_null_series = series.dropna()\n",
    "\n",
    "        if non_null_series.empty:\n",
    "            # default to object if there's nothing to infer\n",
    "            nullable_df[col] = series.astype(\"object\")\n",
    "            continue\n",
    "\n",
    "        inferred_dtype = pd.api.types.infer_dtype(non_null_series, skipna=True)\n",
    "\n",
    "        # Map inferred dtype to a pandas nullable type\n",
    "        if inferred_dtype in {\"integer\"}:\n",
    "            nullable_df[col] = series.astype(\"Int64\")\n",
    "        elif inferred_dtype in {\"floating\"}:\n",
    "            try:\n",
    "                nullable_df[col] = series.astype(\"Int64\")\n",
    "            except:\n",
    "                nullable_df[col] = series.astype(\"Float64\")\n",
    "        elif inferred_dtype in {\"boolean\"}:\n",
    "            nullable_df[col] = series.astype(\"boolean\")\n",
    "        elif inferred_dtype in {\"string\", \"unicode\", \"datetime\"}:\n",
    "            try:\n",
    "                nullable_df[col] = pd.to_datetime(nullable_df)\n",
    "            except:    \n",
    "                nullable_df[col] = series.astype(\"string\")\n",
    "        else:\n",
    "            nullable_df[col] = series.astype(\"object\")\n",
    "\n",
    "    return nullable_df\n"
   ]
  },
  {
   "cell_type": "code",
   "execution_count": null,
   "id": "2f63a13e",
   "metadata": {},
   "outputs": [],
   "source": [
    "df = load_csv_with_nullable_types('float.csv')"
   ]
  },
  {
   "cell_type": "code",
   "execution_count": null,
   "id": "5147a8b9",
   "metadata": {},
   "outputs": [],
   "source": [
    "df['num']"
   ]
  },
  {
   "cell_type": "code",
   "execution_count": null,
   "id": "2f8a2270",
   "metadata": {},
   "outputs": [],
   "source": [
    "s =pd.to_datetime(s)"
   ]
  },
  {
   "cell_type": "code",
   "execution_count": null,
   "id": "0935ea99",
   "metadata": {},
   "outputs": [],
   "source": [
    "s = pd.Series(('sdasdasdas',None)).astype('string')"
   ]
  },
  {
   "cell_type": "code",
   "execution_count": null,
   "id": "48c6f842",
   "metadata": {},
   "outputs": [],
   "source": [
    "s.astype('category')"
   ]
  },
  {
   "cell_type": "code",
   "execution_count": null,
   "id": "499c1883",
   "metadata": {},
   "outputs": [],
   "source": [
    "s"
   ]
  },
  {
   "cell_type": "code",
   "execution_count": null,
   "id": "e02113b6",
   "metadata": {},
   "outputs": [],
   "source": [
    "df "
   ]
  },
  {
   "cell_type": "code",
   "execution_count": 21,
   "id": "4f6d1ca7",
   "metadata": {},
   "outputs": [
    {
     "data": {
      "text/plain": [
       "Good                              23460\n",
       "Moderate                              2\n",
       "Unhealthy for Sensitive Groups        1\n",
       "Name: CO AQI Category, dtype: Int64"
      ]
     },
     "execution_count": 21,
     "metadata": {},
     "output_type": "execute_result"
    }
   ],
   "source": [
    "load_csv_with_nullable_types('data/global-air-pollution-dataset.csv')['CO AQI Category'].value_counts()"
   ]
  },
  {
   "cell_type": "code",
   "execution_count": null,
   "id": "ed91c47f",
   "metadata": {},
   "outputs": [],
   "source": [
    "pd.Series((1, 0, 1, None)).astype('Int64')"
   ]
  },
  {
   "cell_type": "code",
   "execution_count": null,
   "id": "df8c1dd4",
   "metadata": {},
   "outputs": [],
   "source": [
    "pd.Series((1, 0, 1, None), name=\"column1\").astype('Int64')"
   ]
  },
  {
   "cell_type": "code",
   "execution_count": 6,
   "id": "ba5f3190",
   "metadata": {},
   "outputs": [],
   "source": [
    "import pandas as pd\n",
    "df = pd.DataFrame(\n",
    "{    \"column1\": pd.Series((1, 0, 1, None)).astype('Int64'),\n",
    "    \"column2\": pd.Series((1, 0, 1, None)).astype('string')}\n",
    ")"
   ]
  },
  {
   "cell_type": "code",
   "execution_count": 7,
   "id": "e70a0148",
   "metadata": {},
   "outputs": [
    {
     "data": {
      "text/plain": [
       "<NA>"
      ]
     },
     "execution_count": 7,
     "metadata": {},
     "output_type": "execute_result"
    }
   ],
   "source": [
    "df['column1'][3]"
   ]
  },
  {
   "cell_type": "code",
   "execution_count": 8,
   "id": "d8d864d7",
   "metadata": {},
   "outputs": [],
   "source": [
    "import pandas.api.types as pd_types\n",
    "import pandas as pd"
   ]
  },
  {
   "cell_type": "code",
   "execution_count": 12,
   "id": "34a0c2cc",
   "metadata": {},
   "outputs": [
    {
     "data": {
      "text/plain": [
       "False"
      ]
     },
     "execution_count": 12,
     "metadata": {},
     "output_type": "execute_result"
    }
   ],
   "source": [
    "pd_types.is_integer_dtype(df['column1'].astype('category'))"
   ]
  },
  {
   "cell_type": "code",
   "execution_count": 41,
   "id": "f819ec06",
   "metadata": {},
   "outputs": [],
   "source": [
    "s = pd.Series(('1', '0', 'None'))"
   ]
  },
  {
   "cell_type": "code",
   "execution_count": 42,
   "id": "4698ce71",
   "metadata": {},
   "outputs": [
    {
     "data": {
      "text/plain": [
       "0       1\n",
       "1       0\n",
       "2    None\n",
       "dtype: object"
      ]
     },
     "execution_count": 42,
     "metadata": {},
     "output_type": "execute_result"
    }
   ],
   "source": [
    "s"
   ]
  },
  {
   "cell_type": "code",
   "execution_count": 30,
   "id": "60b9bbf6",
   "metadata": {},
   "outputs": [],
   "source": [
    "inferred_dtype = pd_types.infer_dtype(s, skipna=True)"
   ]
  },
  {
   "cell_type": "code",
   "execution_count": 31,
   "id": "76782879",
   "metadata": {},
   "outputs": [
    {
     "data": {
      "text/plain": [
       "'integer'"
      ]
     },
     "execution_count": 31,
     "metadata": {},
     "output_type": "execute_result"
    }
   ],
   "source": [
    "inferred_dtype"
   ]
  },
  {
   "cell_type": "code",
   "execution_count": 34,
   "id": "4d0aff8f",
   "metadata": {},
   "outputs": [
    {
     "data": {
      "text/plain": [
       "'datetime64[ns]'"
      ]
     },
     "execution_count": 34,
     "metadata": {},
     "output_type": "execute_result"
    }
   ],
   "source": [
    "pd.to_datetime(pd.Series(('2024-01-01'))).dtype.name"
   ]
  },
  {
   "cell_type": "code",
   "execution_count": null,
   "id": "69cc2edf",
   "metadata": {},
   "outputs": [],
   "source": []
  }
 ],
 "metadata": {
  "kernelspec": {
   "display_name": "bb_data_edit",
   "language": "python",
   "name": "python3"
  },
  "language_info": {
   "codemirror_mode": {
    "name": "ipython",
    "version": 3
   },
   "file_extension": ".py",
   "mimetype": "text/x-python",
   "name": "python",
   "nbconvert_exporter": "python",
   "pygments_lexer": "ipython3",
   "version": "3.11.11"
  }
 },
 "nbformat": 4,
 "nbformat_minor": 5
}
