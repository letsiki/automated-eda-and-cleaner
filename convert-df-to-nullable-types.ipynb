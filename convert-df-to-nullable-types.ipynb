{
 "cells": [
  {
   "cell_type": "code",
   "execution_count": 3,
   "id": "77dc6947",
   "metadata": {},
   "outputs": [],
   "source": [
    "import pandas as pd"
   ]
  },
  {
   "cell_type": "code",
   "execution_count": 5,
   "id": "49b3645e",
   "metadata": {},
   "outputs": [],
   "source": [
    "df = pd.DataFrame({'a': (1,2,3), 'b':(4.6, 2.5,4.1)})"
   ]
  },
  {
   "cell_type": "code",
   "execution_count": 6,
   "id": "800172ef",
   "metadata": {},
   "outputs": [
    {
     "data": {
      "text/plain": [
       "Index(['a', 'b'], dtype='object')"
      ]
     },
     "execution_count": 6,
     "metadata": {},
     "output_type": "execute_result"
    }
   ],
   "source": [
    "df.columns"
   ]
  },
  {
   "cell_type": "code",
   "execution_count": 7,
   "id": "5b0c51e9",
   "metadata": {},
   "outputs": [
    {
     "ename": "AttributeError",
     "evalue": "'DataFrame' object has no attribute 'rows'",
     "output_type": "error",
     "traceback": [
      "\u001b[31m---------------------------------------------------------------------------\u001b[39m",
      "\u001b[31mAttributeError\u001b[39m                            Traceback (most recent call last)",
      "\u001b[32m/tmp/ipykernel_25474/3342542040.py\u001b[39m in \u001b[36m?\u001b[39m\u001b[34m()\u001b[39m\n\u001b[32m----> \u001b[39m\u001b[32m1\u001b[39m df.rows\n",
      "\u001b[32m~/miniconda3/envs/bb_data_edit/lib/python3.11/site-packages/pandas/core/generic.py\u001b[39m in \u001b[36m?\u001b[39m\u001b[34m(self, name)\u001b[39m\n\u001b[32m   5898\u001b[39m             \u001b[38;5;28;01mand\u001b[39;00m name \u001b[38;5;28;01mnot\u001b[39;00m \u001b[38;5;28;01min\u001b[39;00m self._accessors\n\u001b[32m   5899\u001b[39m             \u001b[38;5;28;01mand\u001b[39;00m self._info_axis._can_hold_identifiers_and_holds_name(name)\n\u001b[32m   5900\u001b[39m         ):\n\u001b[32m   5901\u001b[39m             \u001b[38;5;28;01mreturn\u001b[39;00m self[name]\n\u001b[32m-> \u001b[39m\u001b[32m5902\u001b[39m         \u001b[38;5;28;01mreturn\u001b[39;00m object.__getattribute__(self, name)\n",
      "\u001b[31mAttributeError\u001b[39m: 'DataFrame' object has no attribute 'rows'"
     ]
    }
   ],
   "source": [
    "df.rows"
   ]
  },
  {
   "cell_type": "code",
   "execution_count": 8,
   "id": "19189316",
   "metadata": {},
   "outputs": [
    {
     "data": {
      "text/plain": [
       "RangeIndex(start=0, stop=3, step=1)"
      ]
     },
     "execution_count": 8,
     "metadata": {},
     "output_type": "execute_result"
    }
   ],
   "source": [
    "df.index"
   ]
  },
  {
   "cell_type": "code",
   "execution_count": 19,
   "id": "5c63744d",
   "metadata": {},
   "outputs": [
    {
     "data": {
      "text/plain": [
       "0    False\n",
       "1     True\n",
       "2    False\n",
       "3     <NA>\n",
       "Name: num, dtype: boolean"
      ]
     },
     "execution_count": 19,
     "metadata": {},
     "output_type": "execute_result"
    }
   ],
   "source": [
    "pd.read_csv('float.csv')['num'].astype('boolean')"
   ]
  },
  {
   "cell_type": "code",
   "execution_count": 22,
   "id": "1d4fff0a",
   "metadata": {},
   "outputs": [],
   "source": [
    "def dic_frame(dic: dict):\n",
    "    df = pd.DataFrame(dic)\n",
    "    for _, col_series in df.items():\n",
    "        col_series = col_series.astype(col_series.dropna().dtype.name)\n",
    "    return df\n",
    "\n",
    "def csv_frame(dic: dict):\n",
    "    df = pd.read_csv(dic)\n",
    "    for _, col_series in df.items():\n",
    "        col_series = col_series.astype(col_series.dropna().dtype.name)\n",
    "    return df"
   ]
  },
  {
   "cell_type": "code",
   "execution_count": 24,
   "id": "30cafaa6",
   "metadata": {},
   "outputs": [
    {
     "data": {
      "text/plain": [
       "0    False\n",
       "1     True\n",
       "2    False\n",
       "3      NaN\n",
       "Name: num, dtype: object"
      ]
     },
     "execution_count": 24,
     "metadata": {},
     "output_type": "execute_result"
    }
   ],
   "source": [
    "csv_frame('float.csv')['num']"
   ]
  },
  {
   "cell_type": "code",
   "execution_count": null,
   "id": "06eb0263",
   "metadata": {},
   "outputs": [
    {
     "ename": "AttributeError",
     "evalue": "'str' object has no attribute 'astype'",
     "output_type": "error",
     "traceback": [
      "\u001b[31m---------------------------------------------------------------------------\u001b[39m",
      "\u001b[31mAttributeError\u001b[39m                            Traceback (most recent call last)",
      "\u001b[36mCell\u001b[39m\u001b[36m \u001b[39m\u001b[32mIn[27]\u001b[39m\u001b[32m, line 1\u001b[39m\n\u001b[32m----> \u001b[39m\u001b[32m1\u001b[39m \u001b[43mpd\u001b[49m\u001b[43m.\u001b[49m\u001b[43mread_csv\u001b[49m\u001b[43m(\u001b[49m\u001b[33;43m'\u001b[39;49m\u001b[33;43mfloat.csv\u001b[39;49m\u001b[33;43m'\u001b[39;49m\u001b[43m,\u001b[49m\u001b[43m \u001b[49m\u001b[43mconverters\u001b[49m\u001b[43m=\u001b[49m\u001b[43m{\u001b[49m\u001b[33;43m'\u001b[39;49m\u001b[33;43mnum\u001b[39;49m\u001b[33;43m'\u001b[39;49m\u001b[43m:\u001b[49m\u001b[43m \u001b[49m\u001b[38;5;28;43;01mlambda\u001b[39;49;00m\u001b[43m \u001b[49m\u001b[43mx\u001b[49m\u001b[43m:\u001b[49m\u001b[43m \u001b[49m\u001b[43mx\u001b[49m\u001b[43m.\u001b[49m\u001b[43mastype\u001b[49m\u001b[43m(\u001b[49m\u001b[33;43m'\u001b[39;49m\u001b[33;43mboolean\u001b[39;49m\u001b[33;43m'\u001b[39;49m\u001b[43m)\u001b[49m\u001b[43m}\u001b[49m\u001b[43m)\u001b[49m\n",
      "\u001b[36mFile \u001b[39m\u001b[32m~/miniconda3/envs/bb_data_edit/lib/python3.11/site-packages/pandas/util/_decorators.py:211\u001b[39m, in \u001b[36mdeprecate_kwarg.<locals>._deprecate_kwarg.<locals>.wrapper\u001b[39m\u001b[34m(*args, **kwargs)\u001b[39m\n\u001b[32m    209\u001b[39m     \u001b[38;5;28;01melse\u001b[39;00m:\n\u001b[32m    210\u001b[39m         kwargs[new_arg_name] = new_arg_value\n\u001b[32m--> \u001b[39m\u001b[32m211\u001b[39m \u001b[38;5;28;01mreturn\u001b[39;00m \u001b[43mfunc\u001b[49m\u001b[43m(\u001b[49m\u001b[43m*\u001b[49m\u001b[43margs\u001b[49m\u001b[43m,\u001b[49m\u001b[43m \u001b[49m\u001b[43m*\u001b[49m\u001b[43m*\u001b[49m\u001b[43mkwargs\u001b[49m\u001b[43m)\u001b[49m\n",
      "\u001b[36mFile \u001b[39m\u001b[32m~/miniconda3/envs/bb_data_edit/lib/python3.11/site-packages/pandas/util/_decorators.py:331\u001b[39m, in \u001b[36mdeprecate_nonkeyword_arguments.<locals>.decorate.<locals>.wrapper\u001b[39m\u001b[34m(*args, **kwargs)\u001b[39m\n\u001b[32m    325\u001b[39m \u001b[38;5;28;01mif\u001b[39;00m \u001b[38;5;28mlen\u001b[39m(args) > num_allow_args:\n\u001b[32m    326\u001b[39m     warnings.warn(\n\u001b[32m    327\u001b[39m         msg.format(arguments=_format_argument_list(allow_args)),\n\u001b[32m    328\u001b[39m         \u001b[38;5;167;01mFutureWarning\u001b[39;00m,\n\u001b[32m    329\u001b[39m         stacklevel=find_stack_level(),\n\u001b[32m    330\u001b[39m     )\n\u001b[32m--> \u001b[39m\u001b[32m331\u001b[39m \u001b[38;5;28;01mreturn\u001b[39;00m \u001b[43mfunc\u001b[49m\u001b[43m(\u001b[49m\u001b[43m*\u001b[49m\u001b[43margs\u001b[49m\u001b[43m,\u001b[49m\u001b[43m \u001b[49m\u001b[43m*\u001b[49m\u001b[43m*\u001b[49m\u001b[43mkwargs\u001b[49m\u001b[43m)\u001b[49m\n",
      "\u001b[36mFile \u001b[39m\u001b[32m~/miniconda3/envs/bb_data_edit/lib/python3.11/site-packages/pandas/io/parsers/readers.py:950\u001b[39m, in \u001b[36mread_csv\u001b[39m\u001b[34m(filepath_or_buffer, sep, delimiter, header, names, index_col, usecols, squeeze, prefix, mangle_dupe_cols, dtype, engine, converters, true_values, false_values, skipinitialspace, skiprows, skipfooter, nrows, na_values, keep_default_na, na_filter, verbose, skip_blank_lines, parse_dates, infer_datetime_format, keep_date_col, date_parser, dayfirst, cache_dates, iterator, chunksize, compression, thousands, decimal, lineterminator, quotechar, quoting, doublequote, escapechar, comment, encoding, encoding_errors, dialect, error_bad_lines, warn_bad_lines, on_bad_lines, delim_whitespace, low_memory, memory_map, float_precision, storage_options)\u001b[39m\n\u001b[32m    935\u001b[39m kwds_defaults = _refine_defaults_read(\n\u001b[32m    936\u001b[39m     dialect,\n\u001b[32m    937\u001b[39m     delimiter,\n\u001b[32m   (...)\u001b[39m\u001b[32m    946\u001b[39m     defaults={\u001b[33m\"\u001b[39m\u001b[33mdelimiter\u001b[39m\u001b[33m\"\u001b[39m: \u001b[33m\"\u001b[39m\u001b[33m,\u001b[39m\u001b[33m\"\u001b[39m},\n\u001b[32m    947\u001b[39m )\n\u001b[32m    948\u001b[39m kwds.update(kwds_defaults)\n\u001b[32m--> \u001b[39m\u001b[32m950\u001b[39m \u001b[38;5;28;01mreturn\u001b[39;00m \u001b[43m_read\u001b[49m\u001b[43m(\u001b[49m\u001b[43mfilepath_or_buffer\u001b[49m\u001b[43m,\u001b[49m\u001b[43m \u001b[49m\u001b[43mkwds\u001b[49m\u001b[43m)\u001b[49m\n",
      "\u001b[36mFile \u001b[39m\u001b[32m~/miniconda3/envs/bb_data_edit/lib/python3.11/site-packages/pandas/io/parsers/readers.py:611\u001b[39m, in \u001b[36m_read\u001b[39m\u001b[34m(filepath_or_buffer, kwds)\u001b[39m\n\u001b[32m    608\u001b[39m     \u001b[38;5;28;01mreturn\u001b[39;00m parser\n\u001b[32m    610\u001b[39m \u001b[38;5;28;01mwith\u001b[39;00m parser:\n\u001b[32m--> \u001b[39m\u001b[32m611\u001b[39m     \u001b[38;5;28;01mreturn\u001b[39;00m \u001b[43mparser\u001b[49m\u001b[43m.\u001b[49m\u001b[43mread\u001b[49m\u001b[43m(\u001b[49m\u001b[43mnrows\u001b[49m\u001b[43m)\u001b[49m\n",
      "\u001b[36mFile \u001b[39m\u001b[32m~/miniconda3/envs/bb_data_edit/lib/python3.11/site-packages/pandas/io/parsers/readers.py:1778\u001b[39m, in \u001b[36mTextFileReader.read\u001b[39m\u001b[34m(self, nrows)\u001b[39m\n\u001b[32m   1771\u001b[39m nrows = validate_integer(\u001b[33m\"\u001b[39m\u001b[33mnrows\u001b[39m\u001b[33m\"\u001b[39m, nrows)\n\u001b[32m   1772\u001b[39m \u001b[38;5;28;01mtry\u001b[39;00m:\n\u001b[32m   1773\u001b[39m     \u001b[38;5;66;03m# error: \"ParserBase\" has no attribute \"read\"\u001b[39;00m\n\u001b[32m   1774\u001b[39m     (\n\u001b[32m   1775\u001b[39m         index,\n\u001b[32m   1776\u001b[39m         columns,\n\u001b[32m   1777\u001b[39m         col_dict,\n\u001b[32m-> \u001b[39m\u001b[32m1778\u001b[39m     ) = \u001b[38;5;28;43mself\u001b[39;49m\u001b[43m.\u001b[49m\u001b[43m_engine\u001b[49m\u001b[43m.\u001b[49m\u001b[43mread\u001b[49m\u001b[43m(\u001b[49m\u001b[43m  \u001b[49m\u001b[38;5;66;43;03m# type: ignore[attr-defined]\u001b[39;49;00m\n\u001b[32m   1779\u001b[39m \u001b[43m        \u001b[49m\u001b[43mnrows\u001b[49m\n\u001b[32m   1780\u001b[39m \u001b[43m    \u001b[49m\u001b[43m)\u001b[49m\n\u001b[32m   1781\u001b[39m \u001b[38;5;28;01mexcept\u001b[39;00m \u001b[38;5;167;01mException\u001b[39;00m:\n\u001b[32m   1782\u001b[39m     \u001b[38;5;28mself\u001b[39m.close()\n",
      "\u001b[36mFile \u001b[39m\u001b[32m~/miniconda3/envs/bb_data_edit/lib/python3.11/site-packages/pandas/io/parsers/c_parser_wrapper.py:230\u001b[39m, in \u001b[36mCParserWrapper.read\u001b[39m\u001b[34m(self, nrows)\u001b[39m\n\u001b[32m    228\u001b[39m \u001b[38;5;28;01mtry\u001b[39;00m:\n\u001b[32m    229\u001b[39m     \u001b[38;5;28;01mif\u001b[39;00m \u001b[38;5;28mself\u001b[39m.low_memory:\n\u001b[32m--> \u001b[39m\u001b[32m230\u001b[39m         chunks = \u001b[38;5;28mself\u001b[39m._reader.read_low_memory(nrows)\n\u001b[32m    231\u001b[39m         \u001b[38;5;66;03m# destructive to chunks\u001b[39;00m\n\u001b[32m    232\u001b[39m         data = _concatenate_chunks(chunks)\n",
      "\u001b[36mFile \u001b[39m\u001b[32m~/miniconda3/envs/bb_data_edit/lib/python3.11/site-packages/pandas/_libs/parsers.pyx:808\u001b[39m, in \u001b[36mpandas._libs.parsers.TextReader.read_low_memory\u001b[39m\u001b[34m()\u001b[39m\n",
      "\u001b[36mFile \u001b[39m\u001b[32m~/miniconda3/envs/bb_data_edit/lib/python3.11/site-packages/pandas/_libs/parsers.pyx:890\u001b[39m, in \u001b[36mpandas._libs.parsers.TextReader._read_rows\u001b[39m\u001b[34m()\u001b[39m\n",
      "\u001b[36mFile \u001b[39m\u001b[32m~/miniconda3/envs/bb_data_edit/lib/python3.11/site-packages/pandas/_libs/parsers.pyx:1016\u001b[39m, in \u001b[36mpandas._libs.parsers.TextReader._convert_column_data\u001b[39m\u001b[34m()\u001b[39m\n",
      "\u001b[36mFile \u001b[39m\u001b[32m~/miniconda3/envs/bb_data_edit/lib/python3.11/site-packages/pandas/_libs/parsers.pyx:2027\u001b[39m, in \u001b[36mpandas._libs.parsers._apply_converter\u001b[39m\u001b[34m()\u001b[39m\n",
      "\u001b[36mCell\u001b[39m\u001b[36m \u001b[39m\u001b[32mIn[27]\u001b[39m\u001b[32m, line 1\u001b[39m, in \u001b[36m<lambda>\u001b[39m\u001b[34m(x)\u001b[39m\n\u001b[32m----> \u001b[39m\u001b[32m1\u001b[39m pd.read_csv(\u001b[33m'\u001b[39m\u001b[33mfloat.csv\u001b[39m\u001b[33m'\u001b[39m, converters={\u001b[33m'\u001b[39m\u001b[33mnum\u001b[39m\u001b[33m'\u001b[39m: \u001b[38;5;28;01mlambda\u001b[39;00m x: \u001b[43mx\u001b[49m\u001b[43m.\u001b[49m\u001b[43mastype\u001b[49m(\u001b[33m'\u001b[39m\u001b[33mboolean\u001b[39m\u001b[33m'\u001b[39m)})\n",
      "\u001b[31mAttributeError\u001b[39m: 'str' object has no attribute 'astype'"
     ]
    }
   ],
   "source": [
    "pd.read_csv('float.csv')"
   ]
  },
  {
   "cell_type": "code",
   "execution_count": null,
   "id": "0ac6290d",
   "metadata": {},
   "outputs": [],
   "source": [
    "import pandas as pd\n",
    "import numpy as np\n",
    "\n",
    "def load_csv_with_nullable_types(filepath, **kwargs):\n",
    "    df = pd.read_csv(filepath, **kwargs)\n",
    "    nullable_df = pd.DataFrame()\n",
    "\n",
    "    for col in df.columns:\n",
    "        series = df[col]\n",
    "        non_null_series = series.dropna()\n",
    "\n",
    "        if non_null_series.empty:\n",
    "            # default to object if there's nothing to infer\n",
    "            nullable_df[col] = series.astype(\"object\")\n",
    "            continue\n",
    "\n",
    "        inferred_dtype = pd.api.types.infer_dtype(non_null_series, skipna=True)\n",
    "\n",
    "        # Map inferred dtype to a pandas nullable type\n",
    "        if inferred_dtype in {\"integer\"}:\n",
    "            nullable_df[col] = series.astype(\"Int64\")\n",
    "        elif inferred_dtype in {\"floating\"}:\n",
    "            try:\n",
    "                nullable_df[col] = series.astype(\"Int64\")\n",
    "            except:\n",
    "                nullable_df[col] = series.astype(\"Float64\")\n",
    "        elif inferred_dtype in {\"boolean\"}:\n",
    "            nullable_df[col] = series.astype(\"boolean\")\n",
    "        elif inferred_dtype in {\"string\", \"unicode\", \"datetime\"}:\n",
    "            try:\n",
    "                nullable_df[col] = pd.to_datetime(nullable_df)\n",
    "            except:    \n",
    "                nullable_df[col] = series.astype(\"string\")\n",
    "        else:\n",
    "            nullable_df[col] = series.astype(\"object\")\n",
    "\n",
    "    return nullable_df\n",
    "\n",
    "\n",
    "def load_dict_with_nullable_types(dic, **kwargs):\n",
    "    df = pd.DataFrame(dict)\n",
    "    nullable_df = pd.DataFrame()\n",
    "\n",
    "    for col in df.columns:\n",
    "        series = df[col]\n",
    "        non_null_series = series.dropna()\n",
    "\n",
    "        if non_null_series.empty:\n",
    "            # default to object if there's nothing to infer\n",
    "            nullable_df[col] = series.astype(\"object\")\n",
    "            continue\n",
    "\n",
    "        inferred_dtype = pd.api.types.infer_dtype(non_null_series, skipna=True)\n",
    "\n",
    "        # Map inferred dtype to a pandas nullable type\n",
    "        if inferred_dtype in {\"integer\"}:\n",
    "            nullable_df[col] = series.astype(\"Int64\")\n",
    "        elif inferred_dtype in {\"floating\"}:\n",
    "            try:\n",
    "                nullable_df[col] = series.astype(\"Int64\")\n",
    "            except:\n",
    "                nullable_df[col] = series.astype(\"Float64\")\n",
    "        elif inferred_dtype in {\"boolean\"}:\n",
    "            nullable_df[col] = series.astype(\"boolean\")\n",
    "        elif inferred_dtype in {\"string\", \"unicode\", \"datetime\"}:\n",
    "            try:\n",
    "                nullable_df[col] = pd.to_datetime(nullable_df)\n",
    "            except:    \n",
    "                nullable_df[col] = series.astype(\"string\")\n",
    "        else:\n",
    "            nullable_df[col] = series.astype(\"object\")\n",
    "\n",
    "    return nullable_df\n"
   ]
  },
  {
   "cell_type": "code",
   "execution_count": 61,
   "id": "2f63a13e",
   "metadata": {},
   "outputs": [],
   "source": [
    "df = load_csv_with_nullable_types('float.csv')"
   ]
  },
  {
   "cell_type": "code",
   "execution_count": 62,
   "id": "5147a8b9",
   "metadata": {},
   "outputs": [
    {
     "data": {
      "text/plain": [
       "0    2025-12-01\n",
       "1    2025-12-01\n",
       "2    2025-12-01\n",
       "3          <NA>\n",
       "Name: num, dtype: string"
      ]
     },
     "execution_count": 62,
     "metadata": {},
     "output_type": "execute_result"
    }
   ],
   "source": [
    "df['num']"
   ]
  },
  {
   "cell_type": "code",
   "execution_count": 63,
   "id": "2f8a2270",
   "metadata": {},
   "outputs": [
    {
     "data": {
      "text/plain": [
       "0   2025-12-01\n",
       "1          NaT\n",
       "dtype: datetime64[ns]"
      ]
     },
     "execution_count": 63,
     "metadata": {},
     "output_type": "execute_result"
    }
   ],
   "source": [
    "pd.to_datetime(s)"
   ]
  },
  {
   "cell_type": "code",
   "execution_count": 64,
   "id": "0935ea99",
   "metadata": {},
   "outputs": [],
   "source": [
    "s = pd.Series(('2025-12-01', None))"
   ]
  },
  {
   "cell_type": "code",
   "execution_count": 65,
   "id": "499c1883",
   "metadata": {},
   "outputs": [
    {
     "data": {
      "text/plain": [
       "0    2025-12-01\n",
       "1          None\n",
       "dtype: object"
      ]
     },
     "execution_count": 65,
     "metadata": {},
     "output_type": "execute_result"
    }
   ],
   "source": [
    "s"
   ]
  },
  {
   "cell_type": "code",
   "execution_count": 47,
   "id": "e02113b6",
   "metadata": {},
   "outputs": [
    {
     "data": {
      "application/vnd.microsoft.datawrangler.viewer.v0+json": {
       "columns": [
        {
         "name": "index",
         "rawType": "int64",
         "type": "integer"
        },
        {
         "name": "num",
         "rawType": "string",
         "type": "string"
        },
        {
         "name": " name",
         "rawType": "string",
         "type": "string"
        }
       ],
       "conversionMethod": "pd.DataFrame",
       "ref": "99b265e1-18ca-4041-bc22-b04cd3209fd1",
       "rows": [
        [
         "0",
         "2025-12-01",
         " Who"
        ],
        [
         "1",
         "2025-12-01",
         " Maryy"
        ],
        [
         "2",
         "2025-12-01",
         "Alex"
        ],
        [
         "3",
         null,
         "John"
        ]
       ],
       "shape": {
        "columns": 2,
        "rows": 4
       }
      },
      "text/html": [
       "<div>\n",
       "<style scoped>\n",
       "    .dataframe tbody tr th:only-of-type {\n",
       "        vertical-align: middle;\n",
       "    }\n",
       "\n",
       "    .dataframe tbody tr th {\n",
       "        vertical-align: top;\n",
       "    }\n",
       "\n",
       "    .dataframe thead th {\n",
       "        text-align: right;\n",
       "    }\n",
       "</style>\n",
       "<table border=\"1\" class=\"dataframe\">\n",
       "  <thead>\n",
       "    <tr style=\"text-align: right;\">\n",
       "      <th></th>\n",
       "      <th>num</th>\n",
       "      <th>name</th>\n",
       "    </tr>\n",
       "  </thead>\n",
       "  <tbody>\n",
       "    <tr>\n",
       "      <th>0</th>\n",
       "      <td>2025-12-01</td>\n",
       "      <td>Who</td>\n",
       "    </tr>\n",
       "    <tr>\n",
       "      <th>1</th>\n",
       "      <td>2025-12-01</td>\n",
       "      <td>Maryy</td>\n",
       "    </tr>\n",
       "    <tr>\n",
       "      <th>2</th>\n",
       "      <td>2025-12-01</td>\n",
       "      <td>Alex</td>\n",
       "    </tr>\n",
       "    <tr>\n",
       "      <th>3</th>\n",
       "      <td>&lt;NA&gt;</td>\n",
       "      <td>John</td>\n",
       "    </tr>\n",
       "  </tbody>\n",
       "</table>\n",
       "</div>"
      ],
      "text/plain": [
       "          num    name\n",
       "0  2025-12-01     Who\n",
       "1  2025-12-01   Maryy\n",
       "2  2025-12-01    Alex\n",
       "3        <NA>    John"
      ]
     },
     "execution_count": 47,
     "metadata": {},
     "output_type": "execute_result"
    }
   ],
   "source": [
    "df "
   ]
  },
  {
   "cell_type": "code",
   "execution_count": 69,
   "id": "4f6d1ca7",
   "metadata": {},
   "outputs": [
    {
     "name": "stdout",
     "output_type": "stream",
     "text": [
      "<class 'pandas.core.frame.DataFrame'>\n",
      "RangeIndex: 23463 entries, 0 to 23462\n",
      "Data columns (total 12 columns):\n",
      " #   Column              Non-Null Count  Dtype \n",
      "---  ------              --------------  ----- \n",
      " 0   Country             23036 non-null  string\n",
      " 1   City                23462 non-null  string\n",
      " 2   AQI Value           23463 non-null  Int64 \n",
      " 3   AQI Category        23463 non-null  string\n",
      " 4   CO AQI Value        23463 non-null  Int64 \n",
      " 5   CO AQI Category     23463 non-null  string\n",
      " 6   Ozone AQI Value     23463 non-null  Int64 \n",
      " 7   Ozone AQI Category  23463 non-null  string\n",
      " 8   NO2 AQI Value       23463 non-null  Int64 \n",
      " 9   NO2 AQI Category    23463 non-null  string\n",
      " 10  PM2.5 AQI Value     23463 non-null  Int64 \n",
      " 11  PM2.5 AQI Category  23463 non-null  string\n",
      "dtypes: Int64(5), string(7)\n",
      "memory usage: 2.3 MB\n"
     ]
    }
   ],
   "source": [
    "load_csv_with_nullable_types('data/global-air-pollution-dataset.csv').info()"
   ]
  },
  {
   "cell_type": "code",
   "execution_count": null,
   "id": "ed91c47f",
   "metadata": {},
   "outputs": [],
   "source": []
  }
 ],
 "metadata": {
  "kernelspec": {
   "display_name": "bb_data_edit",
   "language": "python",
   "name": "python3"
  },
  "language_info": {
   "codemirror_mode": {
    "name": "ipython",
    "version": 3
   },
   "file_extension": ".py",
   "mimetype": "text/x-python",
   "name": "python",
   "nbconvert_exporter": "python",
   "pygments_lexer": "ipython3",
   "version": "3.11.11"
  }
 },
 "nbformat": 4,
 "nbformat_minor": 5
}
